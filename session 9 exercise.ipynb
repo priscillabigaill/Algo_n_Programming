{
 "cells": [
  {
   "cell_type": "markdown",
   "metadata": {},
   "source": [
    "#1 Write a function called convert to days() that takes no parameters. Have your function prompt the user to input numbers of hours, minutes, and seconds. Write a helper function called get days() that uses these values and converts them to days in float form (fractions of a day are allowed). get days() should return the number of days. Use this helper function within the convert to days() function to display the numbers of days to the user. The built-in function round() takes two arguments: a number and an integer indicating the desired precision (i.e., the desired number of digits beyond the decimal point). Use this function to round the number of days four digits after the decimal point.\n",
    "\n",
    "The following demonstrates the proper behavior of convert to days():\n",
    "convert_to_days()\n",
    "Enter number of hours: 97 \n",
    "Enter number of minutes: 54 \n",
    "Enter number of seconds: 45\n",
    "\n",
    "The number of days is: 4.0797"
   ]
  },
  {
   "cell_type": "code",
   "execution_count": 92,
   "metadata": {},
   "outputs": [
    {
     "name": "stdout",
     "output_type": "stream",
     "text": [
      "The number of days is: 4.0797\n"
     ]
    }
   ],
   "source": [
    "def convtodays():\n",
    "    global hrs, mins, secs\n",
    "    hrs = input(\"Enter number of hours: \")\n",
    "    mins = input(\"Enter number of minutes: \")\n",
    "    secs = input(\"Enter number of seconds: \")\n",
    "    def getDays():\n",
    "        return float(int(hrs)*3600 + int(mins)*60 + int(secs))/86400\n",
    "    print(\"The number of days is:\",round(getDays(), 4))\n",
    "    getDays()\n",
    "\n",
    "convtodays()"
   ]
  },
  {
   "cell_type": "markdown",
   "metadata": {},
   "source": [
    "#2 Write a function called calc weight on planet() that calculates your equivalent weight on another planet. This function takes two arguments: your weight on Earth in pounds and the surface gravity of the planet of interest with units m/s2. Make the second argument optional and supply a default value of 23.1 m/s2 which is the approximate surface gravity of Jupiter (Earth’s suface gravity is approximately 9.8 m/s2). To perform the conversion, use the equation: weight is equal to mass times suface gravity. Since your weight on Earth is given and you know the Earth’s surface gravity, have your function use this information to calculate your mass (it is fine if, at this point, the units of mass are a mix of Imperial and the MKS system). Then, use your mass and the given surface gravity to calculate your effective weight on the other planet.\n",
    "\n",
    "The following demonstrates the proper behavior of this function:\n",
    "\n",
    "calc_weight_on_planet(120, 9.8)\n",
    "120.0\n",
    "calc_weight_on_planet(120)\n",
    "282.85714285714283\n",
    "calc_weight_on_planet(120, 23.1)\n",
    "282.85714285714283"
   ]
  },
  {
   "cell_type": "code",
   "execution_count": 46,
   "metadata": {},
   "outputs": [
    {
     "name": "stdout",
     "output_type": "stream",
     "text": [
      "120.0\n",
      "282.85714285714283\n",
      "282.85714285714283\n"
     ]
    }
   ],
   "source": [
    "def CalcWeightOnPlanet(x,y=23.1):\n",
    "    newX = (x/9.8)*y\n",
    "    print(newX)\n",
    "\n",
    "CalcWeightOnPlanet(120, 9.8)\n",
    "CalcWeightOnPlanet(120)\n",
    "CalcWeightOnPlanet(120,23.1)"
   ]
  },
  {
   "cell_type": "markdown",
   "metadata": {},
   "source": [
    "#3 Write a function called num atoms() that calculates how many atoms are in n grams of an element given its atomic weight. This function should take two parameters: the amount of the element in grams and an optional argument representing the atomic weight of the element. The atomic weight of any particular element can be found on a periodic table but make the default value for the optional argument the atomic weight of gold (Au) 196.97 with units in grams/mole. A mole is a unit of measurement that is commonly used in chemistry to express an amount of a substance. Avogadro’s number is a constant, 6:022_1023 atoms/mole, that can be used to find the number of atoms in a given sample. Use Avogadro’s number, the atomic weight, and the amount of the element in grams to find the number of atoms present in the sample. Your function should return this value.\n",
    "\n",
    "The following demonstrates the proper behavior of this function using 10 grams and the atomic weight of gold (default), carbon, and hydrogen:\n",
    "\n",
    "num_atoms(10)\n",
    "3.0573183733563486e+22\n",
    "num_atoms(10, 12.001)\n",
    "5.017915173735522e+23\n",
    "num_atoms(10, 1.008)\n",
    "5.97420634920635e+24"
   ]
  },
  {
   "cell_type": "code",
   "execution_count": 49,
   "metadata": {},
   "outputs": [
    {
     "name": "stdout",
     "output_type": "stream",
     "text": [
      "3.0573183733563486e+22\n",
      "5.017915173735522e+23\n",
      "5.974206349206349e+24\n"
     ]
    }
   ],
   "source": [
    "def numAtoms(x,y=196.97):\n",
    "    print(x/y*(6.022 * 10**23))\n",
    "\n",
    "numAtoms(10)\n",
    "numAtoms(10, 12.001)\n",
    "numAtoms(10, 1.008)"
   ]
  },
  {
   "cell_type": "markdown",
   "metadata": {},
   "source": [
    "#4 The aspect ratio of an image describes the relationship between the width and height. Aspect ratios are usually expressed as two numbers separated by a colon that represent width and height respectively. Common aspect ratios in photography are 4:3, 3:2, and 16:9. An image that has an aspect ratio of x : y means that for every x inches of width you will have y inches of height no matter the size of the image (and, of course, you can use any unit of length, not just inches, and even abstract units such as pixels). Suppose you are writing a blog and you have an image that is m units wide and n units high but your blog only has space for an image that is z units wide (where z is less than m). Write a function called calc new height() that returns the height the image must be in order to preserve the aspect ratio (i.e., a height that will not distort the image). This function takes no arguments and prompts the user for the current width, the current height, and the desired new width. In addition to returning the new height, this function also prints the value. The new height is a float regardless of the types of the values the user entered.\n",
    "\n",
    "The following demonstrates the proper behavior of this function:\n",
    "\n",
    "calc_new_height()\n",
    "Enter the current width: 800 Enter the current height: 560 Enter the desired width: 370\n",
    "The corresponding height is: 259.0 259.0"
   ]
  },
  {
   "cell_type": "code",
   "execution_count": 64,
   "metadata": {},
   "outputs": [
    {
     "data": {
      "text/plain": [
       "259.0"
      ]
     },
     "execution_count": 64,
     "metadata": {},
     "output_type": "execute_result"
    }
   ],
   "source": [
    "def calc_new_height():\n",
    "    cwidth = input(\"Enter current width: \")\n",
    "    cheight = input(\"Enter current height: \")\n",
    "    nwidth = input(\"Enter new width: \")\n",
    "\n",
    "    asratio = float(cheight)/float(cwidth)\n",
    "    nheight = float(asratio) * float(nwidth)\n",
    "    return float(nheight) \n",
    "\n",
    "calc_new_height()"
   ]
  },
  {
   "cell_type": "markdown",
   "metadata": {},
   "source": [
    "#5 Write a function called convert temp() that takes no arguments. This function obtains a temperature in Fahrenheit from the user and uses two helper functions to convert this temperature to Celsius and Kelvin. Write a helper function called convert to celsius() that takes a single argument in Fahrenheit and returns the temperature in Celsius using the formula\n",
    "\n",
    "Tc = 5/9(Tf-32)\n",
    "\n",
    "where Tc is the temperature in Celsius and Tf is the temperature in Fahrenheit. Write another helper function called convert to kelvin() that takes a single argument in degrees Celsius and returns degrees Kelvin using the formula\n",
    "\n",
    "Tk = Tc + 273.15\n",
    "\n",
    "where Tk is the temperature in Kelvin. Use these two functions within your convert temp() function to display (i.e., print) the temperatures for the user. The convert temp() does not return anything.\n",
    "\n",
    "The following demonstrates the proper behavior of this function:\n",
    "convert_temp()\n",
    "Enter a temperature in Fahrenheit: 32\n",
    "\n",
    "The temperature in Fahrenheit is: 32 \n",
    "The temperature in Celsius is: 0.0 \n",
    "The temperature in Kelvin is: 273.15\n",
    "\n",
    "convert_temp()\n",
    "Enter a temperature in Fahrenheit: 80\n",
    "\n",
    "The temperature in Fahrenheit is: 80\n",
    "The temperature in Celsius is: 26.666666666666668 \n",
    "The temperature in Kelvin is: 299.81666666666666"
   ]
  },
  {
   "cell_type": "code",
   "execution_count": 2,
   "metadata": {},
   "outputs": [
    {
     "name": "stdout",
     "output_type": "stream",
     "text": [
      "Enter a temperature in Fahrenheit: \n",
      "The temperature in Fahrenheit is: 32\n",
      "The temperature in Celsius is: 0.0\n",
      "The temperature in Kelvin is: 273.15\n"
     ]
    }
   ],
   "source": [
    "def convTemp():\n",
    "    initial = input(print(\"Enter a temperature in Fahrenheit: \"))\n",
    "\n",
    "    def celcius(f):\n",
    "        return 5/9*(f-32)\n",
    "\n",
    "    def kelvin(c):\n",
    "        return c+273.15\n",
    "\n",
    "    print(\"The temperature in Fahrenheit is:\",initial)\n",
    "    print(\"The temperature in Celsius is:\",celcius(float(initial)))\n",
    "    print(\"The temperature in Kelvin is:\",kelvin(celcius(float(initial))))\n",
    "\n",
    "convTemp()"
   ]
  }
 ],
 "metadata": {
  "kernelspec": {
   "display_name": "Python 3.9.6 64-bit",
   "language": "python",
   "name": "python3"
  },
  "language_info": {
   "codemirror_mode": {
    "name": "ipython",
    "version": 3
   },
   "file_extension": ".py",
   "mimetype": "text/x-python",
   "name": "python",
   "nbconvert_exporter": "python",
   "pygments_lexer": "ipython3",
   "version": "3.9.6"
  },
  "orig_nbformat": 4,
  "vscode": {
   "interpreter": {
    "hash": "31f2aee4e71d21fbe5cf8b01ff0e069b9275f58929596ceb00d14d90e3e16cd6"
   }
  }
 },
 "nbformat": 4,
 "nbformat_minor": 2
}
