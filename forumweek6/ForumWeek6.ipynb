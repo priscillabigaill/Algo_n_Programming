{
 "cells": [
  {
   "cell_type": "markdown",
   "metadata": {},
   "source": [
    "#1"
   ]
  },
  {
   "cell_type": "code",
   "execution_count": 5,
   "metadata": {},
   "outputs": [
    {
     "name": "stdout",
     "output_type": "stream",
     "text": [
      "{'gold': 550, 'pouch': ['flint', 'twine', 'gemstone'], 'backpack': ['xylophone', 'bedroll', 'bread loaf'], 'pocket': ('seashell', 'strange berry', 'lint')}\n"
     ]
    }
   ],
   "source": [
    "inventory = {\n",
    "'gold' : 500,\n",
    "'pouch' : ['flint', 'twine', 'gemstone'],\n",
    "'backpack' : ['xylophone','dagger', 'bedroll','bread loaf']\n",
    "}\n",
    "\n",
    "inventory['pocket'] = 'seashell', 'strange berry','lint'\n",
    "inventory['backpack'].sort\n",
    "inventory['backpack'].remove('dagger')\n",
    "inventory['gold'] += 50\n",
    "\n",
    "print(inventory)"
   ]
  },
  {
   "cell_type": "markdown",
   "metadata": {},
   "source": [
    "#2"
   ]
  },
  {
   "cell_type": "code",
   "execution_count": 28,
   "metadata": {},
   "outputs": [
    {
     "name": "stdout",
     "output_type": "stream",
     "text": [
      "banana \n",
      "price: 4 \n",
      "stock: 3 \n",
      "\n",
      "apple \n",
      "price: 2 \n",
      "stock: 7 \n",
      "\n",
      "orange \n",
      "price: 1.5 \n",
      "stock: 9 \n",
      "\n",
      "pear \n",
      "price: 34 \n",
      "stock: 3 \n",
      "\n",
      "banana will generate: 12 money\n",
      "apple will generate: 14 money\n",
      "orange will generate: 13.5 money\n",
      "pear will generate: 102 money\n",
      "Total money gained by selling all fruits: 141.5\n"
     ]
    }
   ],
   "source": [
    "prices = {\n",
    "    \"banana\": 4,\n",
    "    \"apple\": 2,\n",
    "    \"orange\": 1.5,\n",
    "    \"pear\": 34 \n",
    "}\n",
    "\n",
    "stock = {\n",
    "    \"banana\": 3,\n",
    "    \"apple\": 7,\n",
    "    \"orange\": 9,\n",
    "    \"pear\": 3\n",
    "}\n",
    "\n",
    "for fruit in prices:\n",
    "    print(fruit, '\\nprice:', prices[fruit], '\\nstock:', stock[fruit],'\\n')\n",
    "\n",
    "total = 0\n",
    "\n",
    "for fruit in prices:\n",
    "    pricePerFruit = prices[fruit] * stock[fruit]\n",
    "    print(fruit,'will generate:',pricePerFruit,'money')\n",
    "    total += pricePerFruit\n",
    "\n",
    "print('Total money gained by selling all fruits:',total)"
   ]
  },
  {
   "cell_type": "markdown",
   "metadata": {},
   "source": [
    "#3"
   ]
  },
  {
   "cell_type": "code",
   "execution_count": 69,
   "metadata": {},
   "outputs": [
    {
     "name": "stdout",
     "output_type": "stream",
     "text": [
      "Your total bill is: 5.5\n"
     ]
    }
   ],
   "source": [
    "groceries = [\"banana\",\"orange\",\"apple\"]\n",
    "\n",
    "stock = { \n",
    "    \"banana\": 6, \n",
    "    \"apple\": 0, \n",
    "    \"orange\": 32, \n",
    "    \"pear\": 15\n",
    "}\n",
    "prices = { \n",
    "    \"banana\": 4, \n",
    "    \"apple\": 2, \n",
    "    \"orange\": 1.5, \n",
    "    \"pear\": 3\n",
    "}\n",
    "\n",
    "def compute_bill(food):\n",
    "    total = 0\n",
    "    for item in food:\n",
    "        if stock[item] > 0:\n",
    "            total += prices[item]\n",
    "            stock[item] -= 1\n",
    "    return total\n",
    "\n",
    "print('Your total bill is:',compute_bill(groceries))\n",
    "# print(stock)"
   ]
  },
  {
   "cell_type": "markdown",
   "metadata": {},
   "source": [
    "#4"
   ]
  },
  {
   "cell_type": "code",
   "execution_count": 80,
   "metadata": {},
   "outputs": [
    {
     "name": "stdout",
     "output_type": "stream",
     "text": [
      "name Eren\n",
      "homework [90.0, 97.0, 75.0, 92.0]\n",
      "quizzes [88.0, 40.0, 94.0]\n",
      "tests [75.0, 90.0]\n",
      "\n",
      "\n",
      "name Mikasa\n",
      "homework [100.0, 92.0, 98.0, 100.0]\n",
      "quizzes [82.0, 83.0, 91.0]\n",
      "tests [89.0, 97.0]\n",
      "\n",
      "\n",
      "name Armin\n",
      "homework [0.0, 87.0, 75.0, 22.0]\n",
      "quizzes [0.0, 75.0, 78.0]\n",
      "tests [100.0, 100.0]\n",
      "\n",
      "\n",
      "Eren's letter grade is: B \n",
      "\n",
      "The class grade average is: 83.86666666666666\n",
      "The class letter grade average is: B\n"
     ]
    }
   ],
   "source": [
    "eren = {\n",
    "\"name\": \"Eren\",\n",
    "\"homework\": [90.0,97.0,75.0,92.0], \n",
    "\"quizzes\": [88.0,40.0,94.0],\n",
    "\"tests\": [75.0,90.0]\n",
    "}\n",
    "mikasa = {\n",
    "\"name\": \"Mikasa\",\n",
    "\"homework\": [100.0, 92.0, 98.0, 100.0], \n",
    "\"quizzes\": [82.0, 83.0, 91.0],\n",
    "\"tests\": [89.0, 97.0]\n",
    "}\n",
    "armin = {\n",
    "\"name\": \"Armin\",\n",
    "\"homework\": [0.0, 87.0, 75.0, 22.0], \n",
    "\"quizzes\": [0.0, 75.0, 78.0],\n",
    "\"tests\": [100.0, 100.0]\n",
    "}\n",
    "\n",
    "students = [eren, mikasa, armin]\n",
    "\n",
    "for kid in students:\n",
    "    for x,y in kid.items():\n",
    "        print(x,y)\n",
    "    print('\\n')\n",
    "\n",
    "def average(numbers):\n",
    "    total = float(sum(numbers))\n",
    "    return total/len(numbers)\n",
    "\n",
    "def get_average(student):\n",
    "    homework = average(student[\"homework\"])\n",
    "    quizzes = average(student[\"quizzes\"])\n",
    "    tests = average(student[\"tests\"])\n",
    "    sumof3 = (homework*0.1)+(quizzes*0.3)+(tests*0.6)\n",
    "    return sumof3\n",
    "\n",
    "def get_letter_grade(score=float):\n",
    "    if score >= 90:\n",
    "        return \"A\"\n",
    "    elif score >= 80:\n",
    "        return \"B\"\n",
    "    elif score >= 70:\n",
    "        return \"C\"\n",
    "    elif score >= 60:\n",
    "        return \"D\"\n",
    "    else:\n",
    "        return \"F\"\n",
    "print(\"Eren's letter grade is:\",get_letter_grade(get_average(eren)),'\\n')\n",
    "\n",
    "def get_class_average(students=[eren, mikasa, armin]):\n",
    "    results = []\n",
    "    for student in students:\n",
    "        results.append(get_average(student))\n",
    "    return average(results)\n",
    "\n",
    "print('The class grade average is:',get_class_average([eren, mikasa, armin]))\n",
    "print('The class letter grade average is:',get_letter_grade(get_class_average([eren, mikasa, armin])))\n"
   ]
  }
 ],
 "metadata": {
  "kernelspec": {
   "display_name": "Python 3.9.6 64-bit",
   "language": "python",
   "name": "python3"
  },
  "language_info": {
   "codemirror_mode": {
    "name": "ipython",
    "version": 3
   },
   "file_extension": ".py",
   "mimetype": "text/x-python",
   "name": "python",
   "nbconvert_exporter": "python",
   "pygments_lexer": "ipython3",
   "version": "3.9.6"
  },
  "orig_nbformat": 4,
  "vscode": {
   "interpreter": {
    "hash": "31f2aee4e71d21fbe5cf8b01ff0e069b9275f58929596ceb00d14d90e3e16cd6"
   }
  }
 },
 "nbformat": 4,
 "nbformat_minor": 2
}
