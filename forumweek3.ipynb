{
 "cells": [
  {
   "cell_type": "markdown",
   "metadata": {},
   "source": [
    "#1 Write a Python program which accepts the radius of a circle from the user and compute the area"
   ]
  },
  {
   "cell_type": "code",
   "execution_count": null,
   "metadata": {},
   "outputs": [],
   "source": [
    "radius = eval(input(print(\"Enter the radius: \")))\n",
    "\n",
    "area_of_circle = (radius ** 2)* (22/7)\n",
    "\n",
    "print(f\"The area of the circle is = {area_of_circle:.2f}cm\")"
   ]
  },
  {
   "cell_type": "markdown",
   "metadata": {},
   "source": [
    "#2 Write a Python program which accepts the user's first and last name and print them in reverse order with a space\n",
    "between them."
   ]
  },
  {
   "cell_type": "code",
   "execution_count": null,
   "metadata": {},
   "outputs": [],
   "source": [
    "first_name = (input(print(\"Enter your first name: \")))\n",
    "last_name = (input(print(\"Enter your last name: \")))\n",
    "\n",
    "print( last_name + \" \" + first_name)"
   ]
  },
  {
   "cell_type": "markdown",
   "metadata": {},
   "source": [
    "#3 Write a Python program to display the first and last colors from the following list. color_list = [\"Red\",\"Green\",\"White\",\"Black\"]"
   ]
  },
  {
   "cell_type": "code",
   "execution_count": null,
   "metadata": {},
   "outputs": [],
   "source": [
    "color_list = [\"Red\",\"Green\",\"White\",\"Black\"]\n",
    "\n",
    "print(color_list[0])\n",
    "print(color_list[-1])"
   ]
  },
  {
   "cell_type": "markdown",
   "metadata": {},
   "source": [
    "#4 Write a Python program that accepts an integer (n) and computes the value of n+nn+nnn."
   ]
  },
  {
   "cell_type": "code",
   "execution_count": null,
   "metadata": {},
   "outputs": [],
   "source": [
    "n_number = input(print(\"Enter a number: \"))\n",
    "\n",
    "output = int(n_number) + int(n_number+n_number) + int(n_number+n_number+n_number)\n",
    "\n",
    "print(str(output))"
   ]
  },
  {
   "cell_type": "markdown",
   "metadata": {},
   "source": [
    "#5 Write a Python program to get the volume of a sphere with radius 6. The volume of the sphere is : V = 4/3 × π × r3 = π × d3/6."
   ]
  },
  {
   "cell_type": "code",
   "execution_count": null,
   "metadata": {},
   "outputs": [],
   "source": [
    "radius = 6\n",
    "volume = 4/3 * 22/7 * (radius**3)\n",
    "print(f\"The volume is: {volume:.2f}\")"
   ]
  },
  {
   "cell_type": "markdown",
   "metadata": {},
   "source": [
    "#6 Write a Python program to get the difference between a given number and 17, if the number is greater than 17 return double the absolute difference."
   ]
  },
  {
   "cell_type": "code",
   "execution_count": null,
   "metadata": {},
   "outputs": [],
   "source": [
    "number = int(input(print(\"Enter a number: \")))\n",
    "seventeen = 17\n",
    "\n",
    "if number < 17:\n",
    "    print(\"The difference between\",number,\"and 17 is :\",17-int(number))\n",
    "elif number > 17:\n",
    "    print(\"The difference between \", number , \" and 17 is: \",(int(number)-17)*2)\n"
   ]
  },
  {
   "cell_type": "markdown",
   "metadata": {},
   "source": [
    "#7 Write a Python program to calculate the sum of three given numbers, if the values are equal then return thrice of their sum. "
   ]
  },
  {
   "cell_type": "code",
   "execution_count": null,
   "metadata": {},
   "outputs": [],
   "source": [
    "number1 = int(input(print(\"Enter your first number: \")))\n",
    "number2 = int(input(print(\"Enter your second number: \")))\n",
    "number3 = int(input(print(\"Enter your third number: \")))\n",
    "\n",
    "sum = (int(number1)+int(number2)+int(number3))\n",
    "\n",
    "if number1 == number2 == number3:\n",
    "    print(int(sum)*3)\n",
    "else:\n",
    "    print(sum)"
   ]
  },
  {
   "cell_type": "markdown",
   "metadata": {},
   "source": [
    "#8 Write a Python program to find whether a given number (accept from the user) is even or odd, print out an appropriate message to the user"
   ]
  },
  {
   "cell_type": "code",
   "execution_count": null,
   "metadata": {},
   "outputs": [],
   "source": [
    "number = int(input(print(\"Enter a number: \")))\n",
    "\n",
    "if number % 2 == 0:\n",
    "    print(\"Your number is even!\")\n",
    "elif number % 2 != 0:\n",
    "    print(\"Your number is odd\")"
   ]
  },
  {
   "cell_type": "markdown",
   "metadata": {},
   "source": [
    "#9 Write a Python program to test whether a letter is a vowel or not."
   ]
  },
  {
   "cell_type": "code",
   "execution_count": null,
   "metadata": {},
   "outputs": [],
   "source": [
    "vowel = [\"a\",\"i\",\"u\",\"e\",\"o\"]\n",
    "letter = input(print(\"Enter your a letter: \"))\n",
    "\n",
    "if letter.lower() in vowel:\n",
    "    print(\"Your letter is a vowel\")\n",
    "else:\n",
    "    print(\"Your letter is not a vowel\")"
   ]
  },
  {
   "cell_type": "markdown",
   "metadata": {},
   "source": [
    "#10 Write a Python program to check whether a specified value is contained in a group of values."
   ]
  },
  {
   "cell_type": "code",
   "execution_count": null,
   "metadata": {},
   "outputs": [],
   "source": [
    "values = [2,3,4,5,6,7]\n",
    "value = 3\n",
    "\n",
    "if value in values:\n",
    "    print(\"It is included!\")\n",
    "else:\n",
    "    print(\"It is not included\")"
   ]
  },
  {
   "cell_type": "markdown",
   "metadata": {},
   "source": [
    "#11 Write a Python program to create a histogram from a given list of integers."
   ]
  },
  {
   "cell_type": "code",
   "execution_count": null,
   "metadata": {},
   "outputs": [],
   "source": [
    "integers = [6,3,5,9,2]\n",
    "\n",
    "for i in integers:\n",
    "    print(\"*\"*i)"
   ]
  },
  {
   "cell_type": "markdown",
   "metadata": {},
   "source": [
    "#12 Write a Python program to print all even numbers from a given numbers list in the same order.\n",
    "Sample numbers list :\n",
    "numbers = [386, 462, 47, 418, 907, 344, 236, 375, 823, 566, 597, 978, 328, 615, 953, 345, 399, 162, 758, 219, 918, 237, 412, 566, 826, 248, 866, 950, 626, 949, 687, 217, 815, 67, 104, 58, 512, 24, 892, 894, 767, 553, 81, 379, 843, 831, 445, 742, 717, 958,743, 527 ]"
   ]
  },
  {
   "cell_type": "code",
   "execution_count": null,
   "metadata": {},
   "outputs": [],
   "source": [
    "numbers = [386, 462, 47, 418, 907, 344, 236, 375, 823, 566, 597, \n",
    "978, 328, 615, 953, 345, 399, 162, 758, 219, 918, 237, 412, 566, \n",
    "826, 248, 866, 950, 626, 949, 687, 217, 815, 67, 104, 58, 512, 24, \n",
    "892, 894, 767, 553, 81, 379, 843, 831, 445, 742, 717, 958,743, 527 ]\n",
    "\n",
    "even = []\n",
    "\n",
    "for i in numbers:\n",
    "    if i % 2 == 0:\n",
    "      even.append(i)\n",
    "\n",
    "print(even)"
   ]
  },
  {
   "cell_type": "markdown",
   "metadata": {},
   "source": [
    "#13 Write a Python program that will accept the base and height of a triangle and compute the area."
   ]
  },
  {
   "cell_type": "code",
   "execution_count": null,
   "metadata": {},
   "outputs": [],
   "source": [
    "base = int(input(print(\"Enter the base (in cm): \")))\n",
    "height = int(input(print(\"Enter the height (in cm): \")))\n",
    "\n",
    "area = (base * height)/2\n",
    "\n",
    "print(area)"
   ]
  },
  {
   "cell_type": "markdown",
   "metadata": {},
   "source": [
    "#14 Write a Python program to get the least common multiple (LCM) of two positive integers."
   ]
  },
  {
   "cell_type": "code",
   "execution_count": null,
   "metadata": {},
   "outputs": [],
   "source": [
    "print(\"Enter two positive integers: \")\n",
    "first = int(input(print(\"Enter your first number: \")))\n",
    "second = int(input(print(\"Enter your second number: \")))\n",
    "\n",
    "if first>second:\n",
    "    bigger = first\n",
    "else:\n",
    "    bigger = second\n",
    "\n",
    "while True:\n",
    "    if bigger % first == 0 and bigger % second ==0:\n",
    "        lcm = bigger\n",
    "        break\n",
    "    bigger += 1\n",
    "\n",
    "print(lcm)"
   ]
  },
  {
   "cell_type": "markdown",
   "metadata": {},
   "source": [
    "#15 Write a Python program to sum of three given integers. However, if two values are equal sum will be zero."
   ]
  },
  {
   "cell_type": "code",
   "execution_count": null,
   "metadata": {},
   "outputs": [],
   "source": [
    "number1 = int(input(print(\"Enter your first number: \")))\n",
    "number2 = int(input(print(\"Enter your second number: \")))\n",
    "number3 = int(input(print(\"Enter your third number: \")))\n",
    "\n",
    "sum = (int(number1)+int(number2)+int(number3))\n",
    "\n",
    "if number1 == number2 or number1 == number3 or number2 == number3:\n",
    "    print(int(sum)*0)\n",
    "else:\n",
    "    print(sum)"
   ]
  },
  {
   "cell_type": "markdown",
   "metadata": {},
   "source": [
    "#16 Write a Python program to solve (x + y) * (x + y).\n",
    "Sample Data : x = 4, y = 3\n",
    "Expected Output : (4 + 3) ^ 2) = 49 "
   ]
  },
  {
   "cell_type": "code",
   "execution_count": null,
   "metadata": {},
   "outputs": [],
   "source": [
    "x = int(input(print(\"Enter x = \")))\n",
    "y = int(input(print(\"Enter y = \")))\n",
    "\n",
    "solved = (x+y)*(x+y)\n",
    "\n",
    "print(solved)"
   ]
  },
  {
   "cell_type": "markdown",
   "metadata": {},
   "source": [
    "#17 Write a Python program to compute the future value of a specified principal amount, rate of interest, and a number of years. \n",
    "Sample Data : amt = 10000, int = 3.5, years = 7\n",
    "Expected Output : 12722.79"
   ]
  },
  {
   "cell_type": "code",
   "execution_count": null,
   "metadata": {},
   "outputs": [],
   "source": [
    "amt = int(input(print(\"Enter principal amount = \")))\n",
    "intr = float(input(print(\"Enter rate of interest = \")))\n",
    "years = int(input(print(\"Enter number of years = \")))\n",
    "\n",
    "intr = intr/100\n",
    "\n",
    "fvalue = amt * (1+intr)**years\n",
    "\n",
    "print(f\"The future value is: {fvalue:.2f}\")"
   ]
  },
  {
   "cell_type": "markdown",
   "metadata": {},
   "source": [
    "#18 Write a Python program to compute the distance between the points (x1, y1) and (x2, y2)."
   ]
  },
  {
   "cell_type": "code",
   "execution_count": null,
   "metadata": {},
   "outputs": [],
   "source": [
    "x1 = eval(input(\"Input x1: \"))\n",
    "y1 = eval(input(\"Input y1: \"))\n",
    "x2 = eval(input(\"Input x2: \"))\n",
    "y2 = eval(input(\"Input y2: \"))\n",
    "\n",
    "distance = ((((x2 - x1 )**2) + ((y2-y1)**2) )**0.5)\n",
    "\n",
    "print(\"distance between\",(x1,y1),\"and\",(x2,y2),\"is : \",distance)"
   ]
  },
  {
   "cell_type": "markdown",
   "metadata": {},
   "source": [
    "#19 Write a Python program to sum of the first n positive integers."
   ]
  },
  {
   "cell_type": "code",
   "execution_count": null,
   "metadata": {},
   "outputs": [],
   "source": [
    "number = int(input(\"Input how many positive integers do you want summed: \"))\n",
    "total = 0\n",
    "\n",
    "for i in range(1,number+1):\n",
    "      total += i\n",
    "\n",
    "print(f\"The sum is: {total}\")"
   ]
  },
  {
   "cell_type": "markdown",
   "metadata": {},
   "source": [
    "#20 Write a Python program to convert height (in feet and inches) to centimeters."
   ]
  },
  {
   "cell_type": "code",
   "execution_count": null,
   "metadata": {},
   "outputs": [],
   "source": [
    "feet,inch = input(\"Input height (in feet and inches separated with a space e.g. 5 9): \").split()\n",
    "\n",
    "centi = ((int(feet)*12) + int(inch))*2.54\n",
    "\n",
    "print(\"Your height in cm is: \"+str(centi))"
   ]
  },
  {
   "cell_type": "markdown",
   "metadata": {},
   "source": [
    "#21 Write a Python program to calculate the hypotenuse of a right angled triangle."
   ]
  },
  {
   "cell_type": "code",
   "execution_count": null,
   "metadata": {},
   "outputs": [],
   "source": [
    "import math\n",
    "\n",
    "a = int(input(\"Enter a: \"))\n",
    "b = int(input(\"Enter b: \"))\n",
    "\n",
    "c = (math.sqrt(a**2 + b **2))\n",
    "\n",
    "print(\"The hypotenuse is: \" + str(c))"
   ]
  },
  {
   "cell_type": "markdown",
   "metadata": {},
   "source": [
    "#22 Write a Python program to calculate body mass index."
   ]
  },
  {
   "cell_type": "code",
   "execution_count": null,
   "metadata": {},
   "outputs": [],
   "source": [
    "height = int(input(\"Enter height (in cm): \"))\n",
    "weight = int(input(\"Enter weight (in kg): \"))\n",
    "\n",
    "height2 = height/100\n",
    "\n",
    "bmi = weight/(height2*height2)\n",
    "\n",
    "print(\"Your BMI is: \" + str(bmi))"
   ]
  },
  {
   "cell_type": "markdown",
   "metadata": {},
   "source": [
    "#23 Write a Python program to calculate midpoints of a line. "
   ]
  },
  {
   "cell_type": "code",
   "execution_count": null,
   "metadata": {},
   "outputs": [],
   "source": [
    "x1 = float(input(\"Input x1: \"))\n",
    "y1 = float(input(\"Input y1: \"))\n",
    "x2 = float(input(\"Input x2: \"))\n",
    "y2 = float(input(\"Input y2: \"))\n",
    "\n",
    "xmpoint = (x1 + x2)/2\n",
    "ympoint = (y1 + y2)/2\n",
    "\n",
    "print( \"The midpoint's x value is: \",xmpoint)\n",
    "print( \"The midpoint's y value is: \",ympoint)\n"
   ]
  },
  {
   "cell_type": "markdown",
   "metadata": {},
   "source": [
    "#24 Write a program which will find all such numbers which are divisible by 7 but are not a multiple of 5, between 2000 and 3200 (both included). The numbers obtained should be printed in a comma-separated sequence on a single line. \n",
    "Hints: Consider use range(#begin, #end) method"
   ]
  },
  {
   "cell_type": "code",
   "execution_count": null,
   "metadata": {},
   "outputs": [],
   "source": [
    "nums = []\n",
    "for i in range(2000,3200):\n",
    "    if i % 7 == 0 and i % 5 != 0:\n",
    "        nums.append(str(i))\n",
    "\n",
    "print(\",\".join(nums))"
   ]
  }
 ],
 "metadata": {
  "kernelspec": {
   "display_name": "Python 3.9.6 64-bit",
   "language": "python",
   "name": "python3"
  },
  "language_info": {
   "codemirror_mode": {
    "name": "ipython",
    "version": 3
   },
   "file_extension": ".py",
   "mimetype": "text/x-python",
   "name": "python",
   "nbconvert_exporter": "python",
   "pygments_lexer": "ipython3",
   "version": "3.9.6"
  },
  "orig_nbformat": 4,
  "vscode": {
   "interpreter": {
    "hash": "31f2aee4e71d21fbe5cf8b01ff0e069b9275f58929596ceb00d14d90e3e16cd6"
   }
  }
 },
 "nbformat": 4,
 "nbformat_minor": 2
}
